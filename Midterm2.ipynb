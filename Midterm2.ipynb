{
 "cells": [
  {
   "attachments": {
    "front_page.png": {
     "image/png": "[encoded data removed]"
    }
   },
   "cell_type": "markdown",
   "metadata": {},
   "source": [
    "## Midterm 2 - MNIST Classification\n",
    "![front_page.png](attachment:front_page.png)\n",
    "### Preparing environment and dataset:\n",
    "* pip install python-mnist\n",
    "* create folder midterm/data\n",
    "* download from https://drive.google.com/open?id=1AQwyy3xP7rjDWMPkWBW4kKOfpkIyAWt8 - 4 files\n",
    "* extract all files to ./data"
   ]
  },
  {
   "cell_type": "markdown",
   "metadata": {},
   "source": [
    "#### The error of your classifier on test dataset must be better then 12.0% LeCun et al. 1998\n",
    "#### Enter your error at https://goo.gl/forms/JRDKcotcXf5LZM3I3\n",
    "#### Commit your code to github/bitbucket into folder midterm\n"
   ]
  },
  {
   "cell_type": "code",
   "execution_count": 12,
   "metadata": {},
   "outputs": [
    {
     "name": "stdout",
     "output_type": "stream",
     "text": [
      "The amount of train images 60000\n",
      "The amount of test images 60000\n",
      "The label of random image 6 The random image is \n",
      "............................\n",
      "............................\n",
      "............................\n",
      "...............@@...........\n",
      "..............@@@...........\n",
      ".............@@@@...........\n",
      "............@@@@@...........\n",
      "..........@@@@@.............\n",
      ".........@@@@...............\n",
      ".........@@@................\n",
      "........@@@.................\n",
      ".......@@@.........@@@......\n",
      ".......@@@.....@@@@@@@@.....\n",
      ".......@@.....@@...@.@@.....\n",
      ".......@.....@@.......@.....\n",
      ".......@.....@@.......@.....\n",
      ".......@.....@@.....@@@.....\n",
      ".......@....@@@@@@@@@@......\n",
      ".......@@@@@@@@@@@@@@@......\n",
      ".......@@@@@@@@@@@@@@.......\n",
      "........@@@@@@@@@@@.........\n",
      "........@@@@@@@@@...........\n",
      ".........@@@................\n",
      "............................\n",
      "............................\n",
      "............................\n",
      "............................\n",
      "............................\n",
      "Images are binary with 28*28 =  784\n"
     ]
    }
   ],
   "source": [
    "from mnist import MNIST\n",
    "import random\n",
    "mndata = MNIST('.\\\\data')\n",
    "\n",
    "trimages, trlabels = mndata.load_training()\n",
    "teimages, telabels = mndata.load_testing()\n",
    "index = random.randrange(0, len(trimages))  # choose an index ;-)\n",
    "print('The amount of train images',len(trimages))\n",
    "print('The amount of test images',len(trimages))\n",
    "print('The label of random image',trlabels[index],'The random image is',mndata.display(trimages[index]))\n",
    "print('Images are binary with 28*28 = ',len(trimages[index]))"
   ]
  },
  {
   "cell_type": "code",
   "execution_count": 13,
   "metadata": {},
   "outputs": [
    {
     "name": "stderr",
     "output_type": "stream",
     "text": [
      "C:\\Users\\umit_s\\AppData\\Local\\Continuum\\anaconda3\\lib\\site-packages\\ipykernel_launcher.py:15: UserWarning: Update your `Dense` call to the Keras 2 API: `Dense(128, input_dim=784, activation=\"relu\", kernel_initializer=\"uniform\")`\n",
      "  from ipykernel import kernelapp as app\n",
      "C:\\Users\\umit_s\\AppData\\Local\\Continuum\\anaconda3\\lib\\site-packages\\ipykernel_launcher.py:16: UserWarning: Update your `Dense` call to the Keras 2 API: `Dense(64, activation=\"relu\", kernel_initializer=\"uniform\")`\n",
      "  app.launch_new_instance()\n",
      "C:\\Users\\umit_s\\AppData\\Local\\Continuum\\anaconda3\\lib\\site-packages\\ipykernel_launcher.py:17: UserWarning: Update your `Dense` call to the Keras 2 API: `Dense(10, activation=\"sigmoid\", kernel_initializer=\"uniform\")`\n"
     ]
    }
   ],
   "source": [
    "from keras.models import Sequential\n",
    "from keras.layers import Dense\n",
    "import numpy as np\n",
    "from keras.utils.np_utils import to_categorical\n",
    "\n",
    "y = to_categorical(trlabels)\n",
    "X = np.array(trimages)\n",
    "model = Sequential()\n",
    "model.add(Dense(128, input_dim=784, init='uniform', activation='relu'))\n",
    "model.add(Dense(64, init='uniform', activation='relu'))\n",
    "model.add(Dense(y.shape[1], init='uniform', activation='sigmoid'))\n",
    "model.compile(loss='categorical_crossentropy', optimizer='adam', metrics=['accuracy'])"
   ]
  },
  {
   "cell_type": "code",
   "execution_count": null,
   "metadata": {
    "collapsed": true
   },
   "outputs": [],
   "source": []
  },
  {
   "cell_type": "code",
   "execution_count": 14,
   "metadata": {
    "scrolled": false
   },
   "outputs": [
    {
     "name": "stdout",
     "output_type": "stream",
     "text": [
      "Epoch 1/100\n",
      "60000/60000 [==============================] - 1s 13us/step - loss: 0.9028 - acc: 0.7086\n",
      "Epoch 2/100\n",
      "60000/60000 [==============================] - 1s 10us/step - loss: 0.2222 - acc: 0.9337\n",
      "Epoch 3/100\n",
      "60000/60000 [==============================] - 1s 10us/step - loss: 0.1430 - acc: 0.9576\n",
      "Epoch 4/100\n",
      "60000/60000 [==============================] - 1s 10us/step - loss: 0.1061 - acc: 0.9683\n",
      "Epoch 5/100\n",
      "60000/60000 [==============================] - 1s 10us/step - loss: 0.0840 - acc: 0.9752\n",
      "Epoch 6/100\n",
      "60000/60000 [==============================] - 1s 10us/step - loss: 0.0703 - acc: 0.9791\n",
      "Epoch 7/100\n",
      "60000/60000 [==============================] - 1s 10us/step - loss: 0.0577 - acc: 0.9827\n",
      "Epoch 8/100\n",
      "60000/60000 [==============================] - 1s 10us/step - loss: 0.0458 - acc: 0.9868\n",
      "Epoch 9/100\n",
      "60000/60000 [==============================] - 1s 10us/step - loss: 0.0377 - acc: 0.9890\n",
      "Epoch 10/100\n",
      "60000/60000 [==============================] - 1s 9us/step - loss: 0.0330 - acc: 0.9907\n",
      "Epoch 11/100\n",
      "60000/60000 [==============================] - 1s 10us/step - loss: 0.0268 - acc: 0.9930\n",
      "Epoch 12/100\n",
      "60000/60000 [==============================] - 1s 10us/step - loss: 0.0228 - acc: 0.9942\n",
      "Epoch 13/100\n",
      "60000/60000 [==============================] - 1s 9us/step - loss: 0.0178 - acc: 0.9959\n",
      "Epoch 14/100\n",
      "60000/60000 [==============================] - 1s 10us/step - loss: 0.0157 - acc: 0.9965\n",
      "Epoch 15/100\n",
      "60000/60000 [==============================] - 1s 10us/step - loss: 0.0130 - acc: 0.9971\n",
      "Epoch 16/100\n",
      "60000/60000 [==============================] - 1s 9us/step - loss: 0.0108 - acc: 0.9977\n",
      "Epoch 17/100\n",
      "60000/60000 [==============================] - 1s 10us/step - loss: 0.0082 - acc: 0.9986\n",
      "Epoch 18/100\n",
      "60000/60000 [==============================] - 1s 10us/step - loss: 0.0074 - acc: 0.9987\n",
      "Epoch 19/100\n",
      "60000/60000 [==============================] - 1s 9us/step - loss: 0.0059 - acc: 0.9992\n",
      "Epoch 20/100\n",
      "60000/60000 [==============================] - 1s 9us/step - loss: 0.0053 - acc: 0.9992\n",
      "Epoch 21/100\n",
      "60000/60000 [==============================] - 1s 10us/step - loss: 0.0038 - acc: 0.9996\n",
      "Epoch 22/100\n",
      "60000/60000 [==============================] - 1s 9us/step - loss: 0.0029 - acc: 0.9998\n",
      "Epoch 23/100\n",
      "60000/60000 [==============================] - 1s 10us/step - loss: 0.0023 - acc: 0.9999\n",
      "Epoch 24/100\n",
      "60000/60000 [==============================] - 1s 10us/step - loss: 0.0019 - acc: 0.9999\n",
      "Epoch 25/100\n",
      "60000/60000 [==============================] - 1s 10us/step - loss: 0.0017 - acc: 1.0000\n",
      "Epoch 26/100\n",
      "60000/60000 [==============================] - 1s 10us/step - loss: 0.0015 - acc: 1.0000\n",
      "Epoch 27/100\n",
      "60000/60000 [==============================] - 1s 10us/step - loss: 0.0014 - acc: 0.9999\n",
      "Epoch 28/100\n",
      "60000/60000 [==============================] - 1s 9us/step - loss: 0.0013 - acc: 1.0000\n",
      "Epoch 29/100\n",
      "60000/60000 [==============================] - 1s 10us/step - loss: 0.0011 - acc: 1.0000\n",
      "Epoch 30/100\n",
      "60000/60000 [==============================] - 1s 10us/step - loss: 0.0011 - acc: 1.0000\n",
      "Epoch 31/100\n",
      "60000/60000 [==============================] - 1s 9us/step - loss: 9.9143e-04 - acc: 1.0000\n",
      "Epoch 32/100\n",
      "60000/60000 [==============================] - 1s 10us/step - loss: 9.2700e-04 - acc: 1.0000\n",
      "Epoch 33/100\n",
      "60000/60000 [==============================] - 1s 10us/step - loss: 8.8050e-04 - acc: 1.0000\n",
      "Epoch 34/100\n",
      "60000/60000 [==============================] - 1s 10us/step - loss: 8.3353e-04 - acc: 1.0000\n",
      "Epoch 35/100\n",
      "60000/60000 [==============================] - 1s 9us/step - loss: 7.8822e-04 - acc: 1.0000\n",
      "Epoch 36/100\n",
      "60000/60000 [==============================] - 1s 10us/step - loss: 7.5809e-04 - acc: 1.0000\n",
      "Epoch 37/100\n",
      "60000/60000 [==============================] - 1s 10us/step - loss: 7.3105e-04 - acc: 1.0000\n",
      "Epoch 38/100\n",
      "60000/60000 [==============================] - 1s 9us/step - loss: 6.9903e-04 - acc: 1.0000\n",
      "Epoch 39/100\n",
      "60000/60000 [==============================] - 1s 10us/step - loss: 6.7321e-04 - acc: 1.0000\n",
      "Epoch 40/100\n",
      "60000/60000 [==============================] - 1s 10us/step - loss: 6.4560e-04 - acc: 1.0000: 0s - loss: 3.6447e-04 - acc: 1.0\n",
      "Epoch 41/100\n",
      "60000/60000 [==============================] - 1s 10us/step - loss: 6.3030e-04 - acc: 1.0000\n",
      "Epoch 42/100\n",
      "60000/60000 [==============================] - 1s 10us/step - loss: 6.0782e-04 - acc: 1.0000\n",
      "Epoch 43/100\n",
      "60000/60000 [==============================] - 1s 9us/step - loss: 5.9026e-04 - acc: 1.0000\n",
      "Epoch 44/100\n",
      "60000/60000 [==============================] - 1s 10us/step - loss: 5.8013e-04 - acc: 1.0000\n",
      "Epoch 45/100\n",
      "60000/60000 [==============================] - 1s 10us/step - loss: 5.5924e-04 - acc: 1.0000\n",
      "Epoch 46/100\n",
      "60000/60000 [==============================] - 1s 10us/step - loss: 5.4478e-04 - acc: 1.0000\n",
      "Epoch 47/100\n",
      "60000/60000 [==============================] - 1s 9us/step - loss: 5.3131e-04 - acc: 1.0000\n",
      "Epoch 48/100\n",
      "60000/60000 [==============================] - 1s 10us/step - loss: 5.1956e-04 - acc: 1.0000\n",
      "Epoch 49/100\n",
      "60000/60000 [==============================] - 1s 10us/step - loss: 5.0785e-04 - acc: 1.0000\n",
      "Epoch 50/100\n",
      "60000/60000 [==============================] - 1s 10us/step - loss: 4.9922e-04 - acc: 1.0000\n",
      "Epoch 51/100\n",
      "60000/60000 [==============================] - 1s 9us/step - loss: 4.8608e-04 - acc: 1.0000\n",
      "Epoch 52/100\n",
      "60000/60000 [==============================] - 1s 10us/step - loss: 4.7328e-04 - acc: 1.0000\n",
      "Epoch 53/100\n",
      "60000/60000 [==============================] - 1s 10us/step - loss: 4.6284e-04 - acc: 1.0000\n",
      "Epoch 54/100\n",
      "60000/60000 [==============================] - 1s 10us/step - loss: 4.5141e-04 - acc: 1.0000\n",
      "Epoch 55/100\n",
      "60000/60000 [==============================] - 1s 10us/step - loss: 4.4488e-04 - acc: 1.0000\n",
      "Epoch 56/100\n",
      "60000/60000 [==============================] - 1s 10us/step - loss: 4.3746e-04 - acc: 1.0000\n",
      "Epoch 57/100\n",
      "60000/60000 [==============================] - 1s 10us/step - loss: 4.3024e-04 - acc: 1.0000\n",
      "Epoch 58/100\n",
      "60000/60000 [==============================] - 1s 10us/step - loss: 4.2279e-04 - acc: 1.0000\n",
      "Epoch 59/100\n",
      "60000/60000 [==============================] - 1s 10us/step - loss: 4.1563e-04 - acc: 1.0000\n",
      "Epoch 60/100\n",
      "60000/60000 [==============================] - 1s 9us/step - loss: 4.1054e-04 - acc: 1.0000\n",
      "Epoch 61/100\n",
      "60000/60000 [==============================] - 1s 10us/step - loss: 4.0457e-04 - acc: 1.0000\n",
      "Epoch 62/100\n",
      "60000/60000 [==============================] - 1s 10us/step - loss: 3.9937e-04 - acc: 1.0000\n",
      "Epoch 63/100\n",
      "60000/60000 [==============================] - 1s 10us/step - loss: 3.9442e-04 - acc: 1.0000\n",
      "Epoch 64/100\n",
      "60000/60000 [==============================] - 1s 10us/step - loss: 3.8960e-04 - acc: 1.0000\n",
      "Epoch 65/100\n",
      "60000/60000 [==============================] - 1s 10us/step - loss: 3.8483e-04 - acc: 1.0000\n",
      "Epoch 66/100\n",
      "60000/60000 [==============================] - 1s 10us/step - loss: 3.8078e-04 - acc: 1.0000\n",
      "Epoch 67/100\n",
      "60000/60000 [==============================] - 1s 10us/step - loss: 3.7712e-04 - acc: 1.0000\n",
      "Epoch 68/100\n",
      "60000/60000 [==============================] - 1s 10us/step - loss: 3.7356e-04 - acc: 1.0000\n",
      "Epoch 69/100\n",
      "60000/60000 [==============================] - 1s 10us/step - loss: 3.6987e-04 - acc: 1.0000\n",
      "Epoch 70/100\n",
      "60000/60000 [==============================] - 1s 10us/step - loss: 3.6607e-04 - acc: 1.0000\n",
      "Epoch 71/100\n",
      "60000/60000 [==============================] - 1s 10us/step - loss: 3.6259e-04 - acc: 1.0000\n",
      "Epoch 72/100\n",
      "60000/60000 [==============================] - 1s 10us/step - loss: 3.5959e-04 - acc: 1.0000\n",
      "Epoch 73/100\n",
      "60000/60000 [==============================] - 1s 10us/step - loss: 3.5751e-04 - acc: 1.0000\n",
      "Epoch 74/100\n",
      "60000/60000 [==============================] - 1s 10us/step - loss: 3.5433e-04 - acc: 1.0000\n",
      "Epoch 75/100\n",
      "60000/60000 [==============================] - 1s 10us/step - loss: 3.5118e-04 - acc: 1.0000\n",
      "Epoch 76/100\n",
      "60000/60000 [==============================] - 1s 10us/step - loss: 3.4812e-04 - acc: 1.0000\n",
      "Epoch 77/100\n",
      "60000/60000 [==============================] - 1s 10us/step - loss: 3.4585e-04 - acc: 1.0000\n",
      "Epoch 78/100\n",
      "60000/60000 [==============================] - 1s 10us/step - loss: 3.4300e-04 - acc: 1.0000\n",
      "Epoch 79/100\n",
      "60000/60000 [==============================] - 1s 10us/step - loss: 3.4092e-04 - acc: 1.0000\n",
      "Epoch 80/100\n",
      "60000/60000 [==============================] - 1s 10us/step - loss: 3.3874e-04 - acc: 1.0000\n",
      "Epoch 81/100\n",
      "60000/60000 [==============================] - 1s 10us/step - loss: 3.3697e-04 - acc: 1.0000\n",
      "Epoch 82/100\n",
      "60000/60000 [==============================] - 1s 10us/step - loss: 3.3476e-04 - acc: 1.0000\n",
      "Epoch 83/100\n",
      "60000/60000 [==============================] - 1s 10us/step - loss: 3.3264e-04 - acc: 1.0000\n",
      "Epoch 84/100\n",
      "60000/60000 [==============================] - 1s 9us/step - loss: 3.3066e-04 - acc: 1.0000\n",
      "Epoch 85/100\n",
      "60000/60000 [==============================] - 1s 9us/step - loss: 3.2904e-04 - acc: 1.0000\n",
      "Epoch 86/100\n",
      "60000/60000 [==============================] - 1s 10us/step - loss: 3.2694e-04 - acc: 1.0000\n",
      "Epoch 87/100\n",
      "60000/60000 [==============================] - 1s 10us/step - loss: 3.2541e-04 - acc: 1.0000\n",
      "Epoch 88/100\n",
      "60000/60000 [==============================] - 1s 10us/step - loss: 3.2408e-04 - acc: 1.0000\n",
      "Epoch 89/100\n",
      "60000/60000 [==============================] - 1s 10us/step - loss: 3.2236e-04 - acc: 1.0000\n",
      "Epoch 90/100\n",
      "60000/60000 [==============================] - 1s 10us/step - loss: 3.2057e-04 - acc: 1.0000\n",
      "Epoch 91/100\n",
      "60000/60000 [==============================] - 1s 10us/step - loss: 3.1918e-04 - acc: 1.0000\n",
      "Epoch 92/100\n",
      "60000/60000 [==============================] - 1s 10us/step - loss: 3.1770e-04 - acc: 1.0000\n",
      "Epoch 93/100\n",
      "60000/60000 [==============================] - 1s 9us/step - loss: 3.1642e-04 - acc: 1.0000\n",
      "Epoch 94/100\n",
      "60000/60000 [==============================] - 1s 10us/step - loss: 3.1519e-04 - acc: 1.0000\n",
      "Epoch 95/100\n",
      "60000/60000 [==============================] - 1s 10us/step - loss: 3.1388e-04 - acc: 1.0000\n",
      "Epoch 96/100\n",
      "60000/60000 [==============================] - 1s 10us/step - loss: 3.1262e-04 - acc: 1.0000\n",
      "Epoch 97/100\n",
      "60000/60000 [==============================] - 1s 10us/step - loss: 3.1125e-04 - acc: 1.0000\n",
      "Epoch 98/100\n",
      "60000/60000 [==============================] - 1s 9us/step - loss: 3.1030e-04 - acc: 1.0000\n",
      "Epoch 99/100\n",
      "60000/60000 [==============================] - 1s 10us/step - loss: 3.0920e-04 - acc: 1.0000\n",
      "Epoch 100/100\n",
      "60000/60000 [==============================] - 1s 10us/step - loss: 3.0799e-04 - acc: 1.0000\n"
     ]
    },
    {
     "data": {
      "text/plain": [
       "<keras.callbacks.History at 0x1ce0f550>"
      ]
     },
     "execution_count": 14,
     "metadata": {},
     "output_type": "execute_result"
    }
   ],
   "source": [
    "# Fit the model\n",
    "model.fit(X, y, epochs=100, batch_size=2000, verbose=1)"
   ]
  },
  {
   "cell_type": "code",
   "execution_count": 16,
   "metadata": {},
   "outputs": [
    {
     "data": {
      "text/plain": [
       "0.9833378688883622"
      ]
     },
     "execution_count": 16,
     "metadata": {},
     "output_type": "execute_result"
    }
   ],
   "source": [
    "from sklearn.metrics import accuracy_score\n",
    "\n",
    "teX = np.array(teimages)\n",
    "\n",
    "accuracy_score(model.predict_classes(teX), np.array(telabels))"
   ]
  },
 
  {
   "cell_type": "code",
   "execution_count": null,
   "metadata": {
    "collapsed": true
   },
   "outputs": [],
   "source": []
  }
 ],
 "metadata": {
  "anaconda-cloud": {},
  "kernelspec": {
   "display_name": "Python 3",
   "language": "python",
   "name": "python3"
  },
  "language_info": {
   "codemirror_mode": {
    "name": "ipython",
    "version": 3
   },
   "file_extension": ".py",
   "mimetype": "text/x-python",
   "name": "python",
   "nbconvert_exporter": "python",
   "pygments_lexer": "ipython3",
   "version": "3.6.2"
  }
 },
 "nbformat": 4,
 "nbformat_minor": 2
}
